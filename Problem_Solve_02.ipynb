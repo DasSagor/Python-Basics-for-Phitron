{
  "nbformat": 4,
  "nbformat_minor": 0,
  "metadata": {
    "colab": {
      "provenance": [],
      "authorship_tag": "ABX9TyMrHDIVKwb5JTAyGOtb12D6",
      "include_colab_link": true
    },
    "kernelspec": {
      "name": "python3",
      "display_name": "Python 3"
    },
    "language_info": {
      "name": "python"
    }
  },
  "cells": [
    {
      "cell_type": "markdown",
      "metadata": {
        "id": "view-in-github",
        "colab_type": "text"
      },
      "source": [
        "<a href=\"https://colab.research.google.com/github/DasSagor/Python-Basics-for-Phitron/blob/main/Problem_Solve_02.ipynb\" target=\"_parent\"><img src=\"https://colab.research.google.com/assets/colab-badge.svg\" alt=\"Open In Colab\"/></a>"
      ]
    },
    {
      "cell_type": "markdown",
      "source": [
        "### Problem Solving with in Built Structures\n",
        "\n",
        "1. Given a list of numbers, make a list with unique values."
      ],
      "metadata": {
        "id": "AoElANZBUMa9"
      }
    },
    {
      "cell_type": "code",
      "execution_count": null,
      "metadata": {
        "colab": {
          "base_uri": "https://localhost:8080/"
        },
        "id": "-Y3qkSx9T_c_",
        "outputId": "409c1a80-9d4b-425b-ac97-93db71378ff6"
      },
      "outputs": [
        {
          "output_type": "stream",
          "name": "stdout",
          "text": [
            "[45, 50, 20, 90, 30]\n"
          ]
        }
      ],
      "source": [
        "lst = [20,30,45,20,45, 90,50, 20,30]\n",
        "\n",
        "uni_val = set(lst)\n",
        "\n",
        "lst = list(uni_val)\n",
        "print(lst)"
      ]
    },
    {
      "cell_type": "markdown",
      "source": [
        "2. Given a string, print the frequently of the words."
      ],
      "metadata": {
        "id": "Zw8CEs0IWoKW"
      }
    },
    {
      "cell_type": "code",
      "source": [
        "string = \"\"\"\n",
        "Machine learning is a branch of Artificial Intelligence that focuses on\n",
        "developing models and algorithms that let computers learn from data without\n",
        "being explicitly programmed for every task. In simple words, ML teaches the\n",
        "systems to think and understand like humans by learning from the data.\n",
        "\"\"\"\n",
        "\n",
        "words = string.split()\n",
        "\n",
        "count = {}\n",
        "\n",
        "for word in words:\n",
        "  count[word] = count.get(word, 0) + 1\n",
        "\n",
        "print(count)\n",
        "\n",
        "# print(string)"
      ],
      "metadata": {
        "colab": {
          "base_uri": "https://localhost:8080/"
        },
        "id": "DOIqyN5nXbMM",
        "outputId": "b6527e2b-55c6-46e9-edee-e28b090ecbc2"
      },
      "execution_count": null,
      "outputs": [
        {
          "output_type": "stream",
          "name": "stdout",
          "text": [
            "{'Machine': 1, 'learning': 2, 'is': 1, 'a': 1, 'branch': 1, 'of': 1, 'Artificial': 1, 'Intelligence': 1, 'that': 2, 'focuses': 1, 'on': 1, 'developing': 1, 'models': 1, 'and': 2, 'algorithms': 1, 'let': 1, 'computers': 1, 'learn': 1, 'from': 2, 'data': 1, 'without': 1, 'being': 1, 'explicitly': 1, 'programmed': 1, 'for': 1, 'every': 1, 'task.': 1, 'In': 1, 'simple': 1, 'words,': 1, 'ML': 1, 'teaches': 1, 'the': 2, 'systems': 1, 'to': 1, 'think': 1, 'understand': 1, 'like': 1, 'humans': 1, 'by': 1, 'data.': 1}\n"
          ]
        }
      ]
    }
  ]
}