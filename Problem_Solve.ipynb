{
  "nbformat": 4,
  "nbformat_minor": 0,
  "metadata": {
    "colab": {
      "provenance": [],
      "collapsed_sections": [
        "CMGlnffIjEoG"
      ],
      "authorship_tag": "ABX9TyPTCTISgGXWRANb6E731IsF",
      "include_colab_link": true
    },
    "kernelspec": {
      "name": "python3",
      "display_name": "Python 3"
    },
    "language_info": {
      "name": "python"
    }
  },
  "cells": [
    {
      "cell_type": "markdown",
      "metadata": {
        "id": "view-in-github",
        "colab_type": "text"
      },
      "source": [
        "<a href=\"https://colab.research.google.com/github/DasSagor/Python-Basics-for-Phitron/blob/main/Problem_Solve.ipynb\" target=\"_parent\"><img src=\"https://colab.research.google.com/assets/colab-badge.svg\" alt=\"Open In Colab\"/></a>"
      ]
    },
    {
      "cell_type": "markdown",
      "source": [
        "## Problem Solve\n",
        "\n",
        "Given two numbers N and M. Print the summation of their last digits.\n"
      ],
      "metadata": {
        "id": "CMGlnffIjEoG"
      }
    },
    {
      "cell_type": "code",
      "execution_count": null,
      "metadata": {
        "colab": {
          "base_uri": "https://localhost:8080/"
        },
        "id": "nm8JRgsRjDPq",
        "outputId": "3237b80c-80e4-4f54-f4f7-47dbe6387c12"
      },
      "outputs": [
        {
          "output_type": "stream",
          "name": "stdout",
          "text": [
            "Enter Two Numbers:12 13\n",
            "Sum of last digits: 5\n"
          ]
        }
      ],
      "source": [
        "# N = int(input())\n",
        "# M = int(input())\n",
        "\n",
        "# print('Sum of last digits:',(N%10) + (M%10))\n",
        "\n",
        "\n",
        "inp = input('Enter Two Numbers:')\n",
        "\n",
        "num = inp.split()\n",
        "\n",
        "N = int(num[0])\n",
        "M = int(num[1])\n",
        "\n",
        "print('Sum of last digits:', (N%10) + (M%10))\n"
      ]
    },
    {
      "cell_type": "code",
      "source": [],
      "metadata": {
        "id": "E3CKKB5Njg1v"
      },
      "execution_count": null,
      "outputs": []
    },
    {
      "cell_type": "markdown",
      "source": [
        "# **Problem Solve**\n",
        "Given 3 numbers A, B and C, Print the minimum and the maximum numbers.\n",
        "\n",
        "Input\n",
        "Only one line containing 3 numbers A, B and C ( - 105 ≤ A, B, C ≤ 105)\n",
        "\n",
        "Output\n",
        "Print the minimum number followed by a single space then print the maximum number."
      ],
      "metadata": {
        "id": "9ALGHu_v4LC9"
      }
    },
    {
      "cell_type": "code",
      "source": [
        "inp = input('Enter Three Numbers:')\n",
        "\n",
        "num = inp.split()\n",
        "\n",
        "a = int(num[0])\n",
        "b = int(num[1])\n",
        "c = int(num[2])\n",
        "\n",
        "# print('Minimum Number:',min(A,B,C))\n",
        "# print('Maximum Number:', max(A,B,C))\n",
        "\n",
        "\n",
        "if a>b and a>c:\n",
        "  print('Maximum number is :', a)\n",
        "  if b>c:\n",
        "    print('Minimum number is :', c)\n",
        "  else:\n",
        "    print('Minimum number is :', b)\n",
        "elif b>a and b>c:\n",
        "  print('Maximum number is :', b)\n",
        "  if a>c:\n",
        "    print('Minimum number is :', c)\n",
        "  else:\n",
        "    print('Minimum number is :', a)\n",
        "else:\n",
        "  print('Maximum number is :', c)\n",
        "  if a>b:\n",
        "    print('Minimum number is :', b)\n",
        "  else:\n",
        "    print('Minimum number is :', a)"
      ],
      "metadata": {
        "colab": {
          "base_uri": "https://localhost:8080/"
        },
        "id": "LCaywkik4Rhy",
        "outputId": "64ea6031-25f5-4a12-e764-b181acf7d7b9"
      },
      "execution_count": null,
      "outputs": [
        {
          "output_type": "stream",
          "name": "stdout",
          "text": [
            "Enter Three Numbers:34 45 -34\n",
            "Maximum number is : 45\n",
            "Minimum number is : -34\n"
          ]
        }
      ]
    },
    {
      "cell_type": "markdown",
      "source": [
        "## Problem Solve\n",
        "\n",
        "Given N numbers. Count how many of these values are even, odd, positive and negative.\n",
        "\n",
        "### Input\n",
        "\n",
        "First line contains one number N (1 ≤ N ≤ 103) number of values.\n",
        "\n",
        "Second line contains N numbers (-105 ≤ Xi ≤ 105).\n",
        "\n",
        "### Output\n",
        "Print four lines with the following format:\n",
        "\n",
        "First Line: \"Even: X\", where X is the number of even numbers in the given input.\n",
        "\n",
        "Second Line: \"Odd: X\", where X is the number of odd numbers in the given input.\n",
        "\n",
        "Third Line: \"Positive: X\", where X is the number of positive numbers in the given input.\n",
        "\n",
        "Fourth Line: \"Negative: X\", where X is the number of negative numbers in the given input."
      ],
      "metadata": {
        "id": "oTXiZSSmq3xq"
      }
    },
    {
      "cell_type": "code",
      "source": [
        "n = int(input())\n",
        "\n",
        "inp = input()\n",
        "\n",
        "num = inp.split()\n",
        "\n",
        "poss = 0; neg = 0; even = 0; odd = 0\n",
        "\n",
        "for i in range(n):\n",
        "  x = int(num[i])\n",
        "  if x>0:\n",
        "    poss+=1\n",
        "  elif x<0:\n",
        "    neg+=1\n",
        "\n",
        "\n",
        "  if x%2!=0:\n",
        "    odd+=1\n",
        "  else:\n",
        "    even+=1\n",
        "\n",
        "print('Even:', even)\n",
        "print('Odd:', odd)\n",
        "print('Positive:', poss)\n",
        "print('Negative:', neg)\n"
      ],
      "metadata": {
        "colab": {
          "base_uri": "https://localhost:8080/"
        },
        "id": "Oh9FMa1DrHdw",
        "outputId": "164c0fdd-74a8-4ff5-9273-359e9f206c0a"
      },
      "execution_count": null,
      "outputs": [
        {
          "output_type": "stream",
          "name": "stdout",
          "text": [
            "3\n",
            "24 -4 1 4\n",
            "['24', '-4', '1', '4']\n",
            "Even: 2\n",
            "Odd: 1\n",
            "Positive: 2\n",
            "Negative: 1\n"
          ]
        }
      ]
    },
    {
      "cell_type": "markdown",
      "source": [
        "### Problem Solve\n",
        "Given a number N. Print the digits of that number from right to left separated by space.\n",
        "\n",
        "### Input\n",
        "First line contains a number T (1 ≤ T ≤ 10) number of test cases.\n",
        "\n",
        "Next T lines will contain a number N (0 ≤ N ≤ 109)\n",
        "\n",
        "### Output\n",
        "For each test case print a single line contains the digits of the number separated by space."
      ],
      "metadata": {
        "id": "MdNwKdT6xo1I"
      }
    },
    {
      "cell_type": "code",
      "source": [
        "inp = int(input())\n",
        "\n",
        "for i in range(inp):\n",
        "  num = int(input())\n",
        "\n",
        "  if num ==0:\n",
        "    print(0)\n",
        "    continue\n",
        "\n",
        "  while num>0:\n",
        "    print(num%10, end=' ')\n",
        "    num//=10\n",
        "\n",
        "  print()"
      ],
      "metadata": {
        "colab": {
          "base_uri": "https://localhost:8080/"
        },
        "id": "sylUzcKJxzqs",
        "outputId": "5e2f8d53-6faa-4474-947b-da86b0f00f23"
      },
      "execution_count": null,
      "outputs": [
        {
          "output_type": "stream",
          "name": "stdout",
          "text": [
            "3\n",
            "2345\n",
            "5 4 3 2 \n",
            "12346\n",
            "6 4 3 2 1 \n",
            "1344\n",
            "4 4 3 1 \n"
          ]
        }
      ]
    },
    {
      "cell_type": "code",
      "source": [
        "mod= 0.45533\n",
        "\n",
        "print(f'Model Accuracy is {mod:.2%}')"
      ],
      "metadata": {
        "colab": {
          "base_uri": "https://localhost:8080/"
        },
        "id": "ol-x7L3w8mZH",
        "outputId": "82ec7a81-3120-4e79-87c2-fe68690b4577"
      },
      "execution_count": null,
      "outputs": [
        {
          "output_type": "stream",
          "name": "stdout",
          "text": [
            "Model Accuracy is 45.53%\n"
          ]
        }
      ]
    },
    {
      "cell_type": "markdown",
      "source": [
        "Given a number N and an array A of N numbers. Print the lowest number and its position.\n",
        "\n",
        "Note: if there are more than one answer print first one's position.\n",
        "\n",
        "### Input\n",
        "First line contains a number N (2 ≤ N ≤ 1000) number of elements.\n",
        "\n",
        "Second line contains N numbers (-105  ≤  Ai  ≤  105).\n",
        "\n",
        "### Output\n",
        "Print the lowest number and its position (1-index).\n",
        "\n",
        "### Examples\n",
        "Input\n",
        "3\n",
        "1 2 3\n",
        "Output\n",
        "1 1\n",
        "InputCopy\n",
        "5\n",
        "5 6 2 3 2\n",
        "OutputCopy\n",
        "2 3"
      ],
      "metadata": {
        "id": "IwTy2FVLjeCr"
      }
    },
    {
      "cell_type": "code",
      "source": [
        "N = int(input())\n",
        "A = list(map(int,input().split()))\n",
        "\n",
        "min_val = A[0]\n",
        "pos = 1\n",
        "\n",
        "for i in range(1,N):\n",
        "    if A[i]<min_val:\n",
        "        min_val = A[i]\n",
        "        pos = i+1\n",
        "\n",
        "print(min_val, pos)"
      ],
      "metadata": {
        "colab": {
          "base_uri": "https://localhost:8080/"
        },
        "id": "MdRKF4-qjh2v",
        "outputId": "25b2b1f0-fc33-4929-8398-db72158b114a"
      },
      "execution_count": null,
      "outputs": [
        {
          "output_type": "stream",
          "name": "stdout",
          "text": [
            "4\n",
            "2 3 4 5\n",
            "2 1\n"
          ]
        }
      ]
    },
    {
      "cell_type": "markdown",
      "source": [
        "Given a number N and an array A of N numbers. Print the array after doing the following operations:\n",
        "\n",
        "Find minimum number in these numbers.\n",
        "Find maximum number in these numbers.\n",
        "Swap minimum number with maximum number.\n",
        "Input\n",
        "First line contains a number N (2 ≤ N ≤ 1000) number of elements.\n",
        "\n",
        "Second line contains N numbers ( - 105 ≤ Ai ≤ 105)\n",
        "\n",
        "It's guaranteed that all numbers are distinct.\n",
        "\n",
        "Output\n",
        "Print the array after the replacement operation.\n",
        "\n",
        "Example\n",
        "InputCopy\n",
        "5\n",
        "4 1 3 10 8\n",
        "OutputCopy\n",
        "4 10 3 1 8"
      ],
      "metadata": {
        "id": "4qU2-RLTlKd6"
      }
    },
    {
      "cell_type": "code",
      "source": [
        "N = int(input())\n",
        "A = list(map(int, input().split()))\n",
        "\n",
        "min_index = A.index(min(A))\n",
        "max_index = A.index(max(A))\n",
        "\n",
        "A[min_index], A[max_index] = A[max_index], A[min_index]\n",
        "\n",
        "print(*A)"
      ],
      "metadata": {
        "colab": {
          "base_uri": "https://localhost:8080/"
        },
        "id": "KQszJn1ilLrG",
        "outputId": "629fccca-431f-49e7-9d34-6008c71ca22d"
      },
      "execution_count": null,
      "outputs": [
        {
          "output_type": "stream",
          "name": "stdout",
          "text": [
            "5\n",
            "3 4 6 1 9\n",
            "3 4 6 9 1\n"
          ]
        }
      ]
    },
    {
      "cell_type": "markdown",
      "source": [
        "`Problem Solve`\n",
        "\n",
        "Given a number N and an array A of N digits (not separated by space). Print the summation of these digits.\n",
        "\n",
        "Input\n",
        "First line contains a number N (1  ≤  N  ≤  106) number of digits.\n",
        "\n",
        "Second line contains N digits (0 ≤ Ai ≤ 9).\n",
        "\n",
        "Output\n",
        "Print the summation of these digits.\n",
        "\n",
        "Example\n",
        "Input\n",
        "5\n",
        "13305\n",
        "Output\n",
        "12"
      ],
      "metadata": {
        "id": "qy9Q4xzRz9_s"
      }
    },
    {
      "cell_type": "code",
      "source": [
        "N = int(input())\n",
        "A = input().strip()\n",
        "\n",
        "sum = 0\n",
        "\n",
        "for i in range(N):\n",
        "    sum += int(A[i])\n",
        "print(sum)"
      ],
      "metadata": {
        "colab": {
          "base_uri": "https://localhost:8080/"
        },
        "id": "jOUC_a4r0Lzb",
        "outputId": "8df5fcda-e75d-453f-de6e-53c2c288f6e8"
      },
      "execution_count": null,
      "outputs": [
        {
          "output_type": "stream",
          "name": "stdout",
          "text": [
            "4\n",
            "2434\n",
            "13\n"
          ]
        }
      ]
    },
    {
      "cell_type": "markdown",
      "source": [
        "### Problem Solve\n",
        "\n",
        "Given a string S. Determine whether this string is Good or Bad.\n",
        "\n",
        "Note: The string is Good if and only if it has \"010\" or \"101\" as one of its sub-strings and it's not necessary to have both of them.\n",
        "\n",
        "A substring of a string is a contiguous subsequence of that string. So, string \"forces\" is substring of string \"codeforces\", but string \"coder\" is not.\n",
        "\n",
        "Input\n",
        "The first line contains a number T (1 ≤ T ≤ 100) number of test cases.\n",
        "\n",
        "Each of the T following lines contains a string S (1 ≤ |S| ≤ 105) where |S| is the length of the string..\n",
        "\n",
        "It's guaranteed that S contains only '1s' and '0s'.\n",
        "\n",
        "Output\n",
        "For each test case, print \"Good\" if the string is Good otherwise, print \"Bad\".\n",
        "\n",
        "Example\n",
        "InputCopy\n",
        "2\n",
        "11111110\n",
        "10101010101010\n",
        "OutputCopy\n",
        "Bad\n",
        "Good"
      ],
      "metadata": {
        "id": "GESd7gch6Ie3"
      }
    },
    {
      "cell_type": "code",
      "source": [
        "inp = int(input())\n",
        "\n",
        "for _ in range(inp):\n",
        "    S = input()\n",
        "\n",
        "    if \"010\" in S or \"101\" in S:\n",
        "        print('Good')\n",
        "    else:\n",
        "        print('Bad')"
      ],
      "metadata": {
        "colab": {
          "base_uri": "https://localhost:8080/"
        },
        "id": "mKVwfr0m0Llb",
        "outputId": "ebefade9-8569-4386-d07d-b23d6d08d6ea"
      },
      "execution_count": null,
      "outputs": [
        {
          "output_type": "stream",
          "name": "stdout",
          "text": [
            "2\n",
            "111111101\n",
            "Good\n",
            "11111111\n",
            "Bad\n"
          ]
        }
      ]
    },
    {
      "cell_type": "markdown",
      "source": [
        "### Problem Solve\n",
        "\n",
        "Given a string S\n",
        ". Print S\n",
        " after replacing every sub-string that is equal to \"EGYPT\" with space."
      ],
      "metadata": {
        "id": "eZFWmHhb8WMg"
      }
    },
    {
      "cell_type": "code",
      "source": [
        "S = input()\n",
        "\n",
        "S = S.replace(\"EGYPT\", ' ')\n",
        "\n",
        "print(S)"
      ],
      "metadata": {
        "colab": {
          "base_uri": "https://localhost:8080/"
        },
        "id": "UDWiOxvE8Vxt",
        "outputId": "b0788663-500b-4bb3-b593-3b5544aba857"
      },
      "execution_count": null,
      "outputs": [
        {
          "output_type": "stream",
          "name": "stdout",
          "text": [
            "esdecdegyptssd\n",
            "esdecdegyptssd\n"
          ]
        }
      ]
    },
    {
      "cell_type": "markdown",
      "source": [
        "### Problem Solve\n",
        "\n",
        "Your tiny trainer reports a stream of loss values. Read how many values to process, then read that many losses and compute the average. If the average loss is ≤ target, print PASS; otherwise print RETRY.\n",
        "\n",
        "Input Format\n",
        "\n",
        "First line: an integer N (how many losses) Second line: a real number target Next N lines: each a real number loss_i\n",
        "\n",
        "N\n",
        "target\n",
        "loss_1\n",
        "loss_2\n",
        "...\n",
        "loss_N\n",
        "Constraints\n",
        "\n",
        "N ≥ 1\n",
        "Use only basics: input/output, arithmetic, and simple control flow\n",
        "No lists/arrays required\n",
        "Output Format\n",
        "\n",
        "Print exactly one word:\n",
        "\n",
        "PASS\n",
        "if average loss ≤ target, else\n",
        "\n",
        "RETRY\n",
        "Sample Input 0\n",
        "\n",
        "3\n",
        "0.35\n",
        "0.20\n",
        "0.30\n",
        "0.40\n",
        "Sample Output 0\n",
        "\n",
        "PASS\n",
        "Sample Input 1\n",
        "\n",
        "5\n",
        "0.40\n",
        "0.45\n",
        "0.42\n",
        "0.39\n",
        "0.41\n",
        "0.44\n",
        "Sample Output 1\n",
        "\n",
        "RETRY"
      ],
      "metadata": {
        "id": "6xEv1apMASiL"
      }
    },
    {
      "cell_type": "code",
      "source": [
        "N = int(input())\n",
        "target = float(input(\"Enter Target\"))\n",
        "\n",
        "total_loss_sum = 0.0\n",
        "\n",
        "for i in range(N):\n",
        "    loss = float(input())\n",
        "    total_loss_sum += loss\n",
        "\n",
        "average_loss = total_loss_sum / N\n",
        "\n",
        "if average_loss <= target:\n",
        "    print(\"PASS\")\n",
        "else:\n",
        "    print(\"RETRY\")"
      ],
      "metadata": {
        "colab": {
          "base_uri": "https://localhost:8080/"
        },
        "id": "26MeQhWDAasu",
        "outputId": "824dd988-9320-4cf7-bb23-0cd6169f6413"
      },
      "execution_count": null,
      "outputs": [
        {
          "output_type": "stream",
          "name": "stdout",
          "text": [
            "3\n",
            "Enter Target0.23\n",
            "0.34\n",
            "0.12\n",
            "0.23\n",
            "PASS\n"
          ]
        }
      ]
    },
    {
      "cell_type": "markdown",
      "source": [
        "### Problem Solve\n",
        "\n",
        "You’re simulating an ensemble of mini-models that each vote YES or NO on admitting a user. Read how many votes there are, then read each vote. If the number of YES votes is greater than or equal to the number of NO votes, print ACCEPT; otherwise print REJECT.\n",
        "\n",
        "New concept — Ensemble majority voting\n",
        "\n",
        "Several weak opinions can combine into one stronger decision.\n",
        "\n",
        "Input Format\n",
        "\n",
        "First line: integer N (number of votes) Next N lines: each is YES or NO (uppercase)\n",
        "\n",
        "N\n",
        "YES\n",
        "NO\n",
        "...\n",
        "Constraints\n",
        "\n",
        "N ≥ 1\n",
        "Inputs are only YES or NO (uppercase)\n",
        "Basics only: input/output and simple conditions\n",
        "No lists/arrays required\n",
        "Output Format\n",
        "\n",
        "Print exactly one word:\n",
        "\n",
        "ACCEPT\n",
        "if YES_count ≥ NO_count, else\n",
        "\n",
        "REJECT\n",
        "Sample Input 0\n",
        "\n",
        "1\n",
        "YES\n",
        "Sample Output 0\n",
        "\n",
        "ACCEPT\n",
        "Sample Input 1\n",
        "\n",
        "1\n",
        "NO\n",
        "Sample Output 1\n",
        "\n",
        "REJECT"
      ],
      "metadata": {
        "id": "UFS9UB64De_b"
      }
    },
    {
      "cell_type": "code",
      "source": [
        "N = int(input())\n",
        "\n",
        "YES_count = 0\n",
        "NO_count = 0\n",
        "\n",
        "for i in range(N):\n",
        "    vote = input()\n",
        "    if vote == 'YES':\n",
        "        YES_count += 1\n",
        "    else:\n",
        "        NO_count += 1\n",
        "\n",
        "if YES_count >= NO_count:\n",
        "    print(\"ACCEPT\")\n",
        "else:\n",
        "    print(\"REJECT\")"
      ],
      "metadata": {
        "colab": {
          "base_uri": "https://localhost:8080/"
        },
        "id": "JFepxpGnDmFa",
        "outputId": "65d2115c-a0ca-4472-b07d-d5d25d20672b"
      },
      "execution_count": null,
      "outputs": [
        {
          "output_type": "stream",
          "name": "stdout",
          "text": [
            "4\n",
            "YES\n",
            "NO\n",
            "NO\n",
            "YES\n",
            "ACCEPT\n"
          ]
        }
      ]
    },
    {
      "cell_type": "markdown",
      "source": [
        "In real AI systems, mood detection uses natural language processing (NLP) to understand emotions from text. For now, let's simulate a mini version of that!\n",
        "\n",
        "You are given a sentence that represents a user's message. Your job is to guess if the mood is happy, sad, or neutral using simple logic:\n",
        "\n",
        "If the message contains words like happy, joy, or smile, print Happy Mood.\n",
        "If it contains words like sad, cry, or angry, print Sad Mood.\n",
        "Otherwise, print Neutral Mood.\n",
        "Input Format\n",
        "\n",
        "A single string representing a user's message.\n",
        "\n",
        "Constraints\n",
        "\n",
        "The message will contain only lowercase English letters.\n",
        "Length of the message ≤ 100.\n",
        "Output Format\n",
        "\n",
        "Print one line: either Happy Mood, Sad Mood, or Neutral Mood.\n",
        "\n",
        "Sample Input 0\n",
        "\n",
        "happy birthday\n",
        "Sample Output 0\n",
        "\n",
        "Happy Mood\n",
        "Sample Input 1\n",
        "\n",
        "i am angry today\n",
        "Sample Output 1\n",
        "\n",
        "Sad Mood\n",
        "Sample Input 2\n",
        "\n",
        "just walking around\n",
        "Sample Output 2\n",
        "\n",
        "Neutral Mood"
      ],
      "metadata": {
        "id": "SwZUx8eWE0M1"
      }
    },
    {
      "cell_type": "code",
      "source": [
        "message = input()\n",
        "\n",
        "happy_keywords = [\"happy\", \"joy\", \"smile\"]\n",
        "sad_keywords = [\"sad\", \"cry\", \"angry\"]\n",
        "\n",
        "if any(keyword in message for keyword in happy_keywords):\n",
        "    print(\"Happy Mood\")\n",
        "elif any(keyword in message for keyword in sad_keywords):\n",
        "    print(\"Sad Mood\")\n",
        "else:\n",
        "    print(\"Neutral Mood\")"
      ],
      "metadata": {
        "colab": {
          "base_uri": "https://localhost:8080/"
        },
        "id": "XEGNOLICE3nm",
        "outputId": "bbe08b44-6c7e-428b-ac0a-50321cf661e1"
      },
      "execution_count": null,
      "outputs": [
        {
          "output_type": "stream",
          "name": "stdout",
          "text": [
            "are you sad\n",
            "Sad Mood\n"
          ]
        }
      ]
    },
    {
      "cell_type": "code",
      "source": [
        "pixel_values = list(map(int, input().split()))\n",
        "\n",
        "average_brightness = sum(pixel_values) / len(pixel_values)\n",
        "\n",
        "if average_brightness < 85:\n",
        "    print(\"Dark Image\")\n",
        "elif average_brightness <= 170:\n",
        "    print(\"Normal Image\")\n",
        "else:\n",
        "    print(\"Bright Image\")\n"
      ],
      "metadata": {
        "colab": {
          "base_uri": "https://localhost:8080/"
        },
        "id": "Tr3ItlBfGAw6",
        "outputId": "db83913c-9b36-4e64-e3ea-55665a3e8fec"
      },
      "execution_count": null,
      "outputs": [
        {
          "output_type": "stream",
          "name": "stdout",
          "text": [
            "10 20 30 40\n",
            "Dark Image\n"
          ]
        }
      ]
    },
    {
      "cell_type": "markdown",
      "source": [
        "### Problem Solve\n",
        "\n",
        "In AI, bias means the model might favor one category more than others. Let’s simulate this idea with lists and conditional logic!\n",
        "\n",
        "You are given a list of predictions made by an AI model. Each prediction is either 'A' or 'B'.\n",
        "\n",
        "Your task is to check whether the model is biased or fair:\n",
        "\n",
        "If the count of 'A' or 'B' is more than 70% of all predictions, print Biased Model.\n",
        "Otherwise, print Fair Model.\n",
        "Input Format\n",
        "\n",
        "A list of uppercase letters (A or B) separated by spaces.\n",
        "\n",
        "Constraints\n",
        "\n",
        "1 ≤ number of predictions ≤ 100\n",
        "Each prediction is either A or B\n",
        "Output Format\n",
        "\n",
        "Print one line: either Biased Model or Fair Model.\n",
        "\n",
        "Sample Input 0\n",
        "\n",
        "A A A B B A A\n",
        "Sample Output 0\n",
        "\n",
        "Biased Model\n",
        "Sample Input 1\n",
        "\n",
        "A B A B A B\n",
        "Sample Output 1\n",
        "\n",
        "Fair Model"
      ],
      "metadata": {
        "id": "b_irdZZS6Vc0"
      }
    },
    {
      "cell_type": "code",
      "source": [
        "inp = input().split()\n",
        "\n",
        "total = len(inp)\n",
        "\n",
        "count_A = inp.count('A')\n",
        "count_B = inp.count('B')\n",
        "\n",
        "if count_A > 0.7 * total or count_B > 0.7 * total:\n",
        "    print(\"Biased Model\")\n",
        "else:\n",
        "    print(\"Fair Model\")\n"
      ],
      "metadata": {
        "colab": {
          "base_uri": "https://localhost:8080/"
        },
        "id": "5meV16hQ6ebb",
        "outputId": "509a7a21-1ef7-472c-89c2-fe01f44e4ab5"
      },
      "execution_count": null,
      "outputs": [
        {
          "output_type": "stream",
          "name": "stdout",
          "text": [
            "A A A B B A A\n",
            "Biased Model\n"
          ]
        }
      ]
    },
    {
      "cell_type": "markdown",
      "source": [
        "### Problem Solve\n",
        "\n",
        "AI systems often scan user messages to find keywords and understand intent. Let’s build a simple version of that!\n",
        "\n",
        "You are given a user's message and a list of AI-related keywords. Your task is to count how many of those keywords appear in the message.\n",
        "\n",
        "The keywords to look for are:\n",
        "\n",
        "ai, data, model, learn, train, neural\n",
        "\n",
        "If 2 or more keywords are found, print AI Detected. Otherwise, print Not AI Related.\n",
        "\n",
        "Input Format\n",
        "\n",
        "A single line of text (the user's message).\n",
        "\n",
        "Constraints\n",
        "\n",
        "The message will contain only lowercase English letters and spaces.\n",
        "Message length ≤ 200.\n",
        "Output Format\n",
        "\n",
        "Print one line: either AI Detected or Not AI Related.\n",
        "\n",
        "Sample Input 0\n",
        "\n",
        "i love to train a neural model\n",
        "Sample Output 0\n",
        "\n",
        "AI Detected\n",
        "Sample Input 1\n",
        "\n",
        "i like reading books\n",
        "Sample Output 1\n",
        "\n",
        "Not AI Related"
      ],
      "metadata": {
        "id": "U-QGGmYq9SsM"
      }
    },
    {
      "cell_type": "code",
      "source": [
        "keywords = ['ai', 'data', 'model', 'learn', 'train', 'neural']\n",
        "\n",
        "string = input().split()\n",
        "\n",
        "count = sum(1 for word in string if word in keywords)\n",
        "\n",
        "if count >= 2:\n",
        "    print(\"AI Detected\")\n",
        "else:\n",
        "    print(\"Not AI Related\")"
      ],
      "metadata": {
        "colab": {
          "base_uri": "https://localhost:8080/"
        },
        "id": "HJwmT7DP9Xz9",
        "outputId": "a30fbfd4-2601-4688-8ab3-b6b345e296ed"
      },
      "execution_count": null,
      "outputs": [
        {
          "output_type": "stream",
          "name": "stdout",
          "text": [
            "i love to train a neural model\n",
            "AI Detected\n"
          ]
        }
      ]
    },
    {
      "cell_type": "markdown",
      "source": [
        "### Problem Solve\n",
        "\n",
        "Given a string S. Determine how many times does each letter occurred in S.\n",
        "\n",
        "Input\n",
        "\n",
        "Only one line contains the string S (1 ≤ |S| ≤ 107) where |S| is the length of the string and it consists of only lowercase English letters.\n",
        "\n",
        "Output\n",
        "\n",
        "For each character that appears in S, print a single line that contains the following format: \"X : Y\" where X is the letter and Y is the number of times that letter X occurred in S.\n",
        "\n",
        "Note: you must print letters in ascending order.\n",
        "\n",
        "Examples\n",
        "\n",
        "Input\n",
        "\n",
        "aaabbc\n",
        "\n",
        "Output\n",
        "\n",
        "a : 3\n",
        "b : 2\n",
        "c : 1\n",
        "\n",
        "\n"
      ],
      "metadata": {
        "id": "6LLJSUMmQrzc"
      }
    },
    {
      "cell_type": "code",
      "source": [
        "S = input().strip()\n",
        "\n",
        "letter_count = {}\n",
        "\n",
        "for i in S:\n",
        "    if i in letter_count:\n",
        "        letter_count[i] += 1\n",
        "    else:\n",
        "        letter_count[i] = 1\n",
        "\n",
        "for i, count in sorted(letter_count.items()):\n",
        "    print(f\"{i} : {count}\")"
      ],
      "metadata": {
        "colab": {
          "base_uri": "https://localhost:8080/"
        },
        "id": "tV3fcaTrRKcO",
        "outputId": "a38225d0-9345-42e3-cdee-c659669fc788"
      },
      "execution_count": null,
      "outputs": [
        {
          "output_type": "stream",
          "name": "stdout",
          "text": [
            "wedsvas\n",
            "a : 1\n",
            "d : 1\n",
            "e : 1\n",
            "s : 2\n",
            "v : 1\n",
            "w : 1\n"
          ]
        }
      ]
    },
    {
      "cell_type": "markdown",
      "source": [
        "### Problem Solve\n",
        "\n",
        "Given an integer, , and space-separated integers as input, create a tuple, , of those integers. Then compute and print the result of hash(t). Note: hash() is one of the functions in the __builtins__ module, so it need not be imported. Input Format The first line contains an integer, , denoting the number of elements in the tuple. The second line contains space-separated integers describing the elements in tuple . Output Format Print the result of hash(t) . Sample Input 0 2 1 2 Sample Output 0 3713081631934410656"
      ],
      "metadata": {
        "id": "tcA053GBUja1"
      }
    },
    {
      "cell_type": "code",
      "source": [
        "n = int(input())\n",
        "t = tuple(map(int, input().split()))\n",
        "print(hash(t))"
      ],
      "metadata": {
        "colab": {
          "base_uri": "https://localhost:8080/"
        },
        "id": "_8sBV6vSUr4j",
        "outputId": "3f9ce251-2c09-4ddf-c992-da70302cc7bf"
      },
      "execution_count": null,
      "outputs": [
        {
          "output_type": "stream",
          "name": "stdout",
          "text": [
            "2\n",
            "1 2\n",
            "-3550055125485641917\n"
          ]
        }
      ]
    },
    {
      "cell_type": "code",
      "source": [
        "import os\n",
        "os.environ['PYTHONHASHSEED'] = '0'\n",
        "\n",
        "n = int(input())\n",
        "t = tuple(map(int, input().split()))\n",
        "print(hash(t))\n"
      ],
      "metadata": {
        "colab": {
          "base_uri": "https://localhost:8080/"
        },
        "id": "PF2cA1iXSCPG",
        "outputId": "ae8b43e1-332a-4e31-a31a-e3333b55ff3c"
      },
      "execution_count": null,
      "outputs": [
        {
          "output_type": "stream",
          "name": "stdout",
          "text": [
            "2\n",
            "1 2\n",
            "-3550055125485641917\n"
          ]
        }
      ]
    },
    {
      "cell_type": "markdown",
      "source": [
        "### Problem Solve\n",
        "\n",
        "Module 5\n",
        "\n",
        "2nd Practice Problem"
      ],
      "metadata": {
        "id": "umuBho1MNjsK"
      }
    },
    {
      "cell_type": "code",
      "source": [
        "# Read inputs\n",
        "n, m = map(int, input().split())\n",
        "arr = list(map(int, input().split()))\n",
        "A = set(map(int, input().split()))\n",
        "B = set(map(int, input().split()))\n",
        "\n",
        "# Initial happiness\n",
        "happiness = 0\n",
        "\n",
        "# Calculate happiness\n",
        "for i in arr:\n",
        "    if i in A:\n",
        "        happiness += 1\n",
        "    elif i in B:\n",
        "        happiness -= 1\n",
        "\n",
        "# Output final happiness\n",
        "print(happiness)\n"
      ],
      "metadata": {
        "colab": {
          "base_uri": "https://localhost:8080/"
        },
        "id": "QV4DJ_ZhMvvw",
        "outputId": "9eb54b47-65b6-4f32-ad6b-5cb516370462"
      },
      "execution_count": null,
      "outputs": [
        {
          "output_type": "stream",
          "name": "stdout",
          "text": [
            "3 2\n",
            "1 5 3\n",
            "3 1\n",
            "5 7\n",
            "1\n"
          ]
        }
      ]
    },
    {
      "cell_type": "markdown",
      "source": [
        "### Problem Solve\n",
        "\n",
        "Module 5\n",
        "\n",
        "3rd Practice Problem\n"
      ],
      "metadata": {
        "id": "9A2Xus6PQRhc"
      }
    },
    {
      "cell_type": "code",
      "source": [],
      "metadata": {
        "id": "7fsqoNiJQcTy"
      },
      "execution_count": null,
      "outputs": []
    }
  ]
}