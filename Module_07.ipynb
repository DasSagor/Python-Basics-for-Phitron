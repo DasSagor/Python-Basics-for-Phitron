{
  "nbformat": 4,
  "nbformat_minor": 0,
  "metadata": {
    "colab": {
      "provenance": [],
      "authorship_tag": "ABX9TyNWISnvNrJeKqhlT0MAxSnS",
      "include_colab_link": true
    },
    "kernelspec": {
      "name": "python3",
      "display_name": "Python 3"
    },
    "language_info": {
      "name": "python"
    }
  },
  "cells": [
    {
      "cell_type": "markdown",
      "metadata": {
        "id": "view-in-github",
        "colab_type": "text"
      },
      "source": [
        "<a href=\"https://colab.research.google.com/github/DasSagor/Python-Basics-for-Phitron/blob/main/Module_07.ipynb\" target=\"_parent\"><img src=\"https://colab.research.google.com/assets/colab-badge.svg\" alt=\"Open In Colab\"/></a>"
      ]
    },
    {
      "cell_type": "markdown",
      "source": [
        "### File Write"
      ],
      "metadata": {
        "id": "oCgrtfmGmomY"
      }
    },
    {
      "cell_type": "code",
      "execution_count": null,
      "metadata": {
        "id": "B-KcqlvHmj9H"
      },
      "outputs": [],
      "source": [
        "with open(\"./sample.txt\", \"w\") as f:\n",
        "    f.write(\"Hello World!\\n\")"
      ]
    },
    {
      "cell_type": "markdown",
      "source": [
        "### File Apend"
      ],
      "metadata": {
        "id": "Bjq7O9MvMLd7"
      }
    },
    {
      "cell_type": "code",
      "source": [
        "with open(\"./sample.txt\",'a') as f:\n",
        "    f.write('This is new ambition')"
      ],
      "metadata": {
        "id": "6KFze3txMNtW"
      },
      "execution_count": null,
      "outputs": []
    },
    {
      "cell_type": "markdown",
      "source": [
        "### File Pointer"
      ],
      "metadata": {
        "id": "SoSmO9rNR-oD"
      }
    },
    {
      "cell_type": "code",
      "source": [
        "with open('./sample.txt','r') as f:\n",
        "    print(f.tell())\n",
        "    print(f.read())\n",
        "    print(f.tell())\n",
        "    print(f.read())"
      ],
      "metadata": {
        "colab": {
          "base_uri": "https://localhost:8080/"
        },
        "id": "lg9E_Br4R-Cw",
        "outputId": "cb1e77da-c83b-4a13-d28f-53e6dd1509d6"
      },
      "execution_count": null,
      "outputs": [
        {
          "output_type": "stream",
          "name": "stdout",
          "text": [
            "0\n",
            "Hello World!\n",
            "This is new ambitionThis is new ambition\n",
            "53\n",
            "\n"
          ]
        }
      ]
    },
    {
      "cell_type": "markdown",
      "source": [
        "### Practice 1:\n",
        "Get the text from sample_data.txt, and count the following\n",
        "\n",
        "Number of lines\n",
        "\n",
        "Number of words\n",
        "\n",
        "Number of characters\n",
        "\n",
        "and save it to the counter_of_string.txt file"
      ],
      "metadata": {
        "id": "I3VRjFFWWzWX"
      }
    },
    {
      "cell_type": "code",
      "source": [
        "from functools import reduce\n",
        "with open('./sample_data/sample_data.txt','r') as f:\n",
        "    str1 = f.readlines()\n",
        "\n",
        "    # Number of Lines\n",
        "    num_of_lines = len(str1)\n",
        "    print(num_of_lines)\n",
        "\n",
        "\n",
        "    # Number of Words\n",
        "    # num_of_words = 0\n",
        "    # for line in str1:\n",
        "    #     words = line.split()\n",
        "    #     num_of_words += len(words)\n",
        "    # print(num_of_words)\n",
        "\n",
        "    num_of_word = list(map(lambda x: len(x.split()), str1))\n",
        "    # print(sum(num_of_word))\n",
        "    print(num_of_word)\n",
        "\n",
        "    tot_num_words = reduce(lambda x,y: x+y, num_of_word)\n",
        "    print(tot_num_words)\n",
        "\n",
        "    ## Number of characters\n",
        "\n",
        "    num_of_char = list(map(lambda x: len(x.replace(\" \", \"\")), str1))\n",
        "    # print(sum(num_of_char))\n",
        "    print(num_of_char)\n",
        "    tot_num_char = reduce(lambda x,y: x+y, num_of_char)\n",
        "    print(tot_num_char)\n",
        "\n",
        "\n",
        "with open('./counter_of_string.txt','w') as f:\n",
        "    f.write(f\"Number of lines: {num_of_lines}\\n\")\n",
        "    f.write(f\"Number of words: {tot_num_words}\\n\")\n",
        "    f.write(f\"Number of characters: {tot_num_char}\\n\")\n"
      ],
      "metadata": {
        "colab": {
          "base_uri": "https://localhost:8080/"
        },
        "id": "of_sS99GW7Q0",
        "outputId": "4d626206-2501-4be2-beed-171911e897d0"
      },
      "execution_count": null,
      "outputs": [
        {
          "output_type": "stream",
          "name": "stdout",
          "text": [
            "3\n",
            "[5, 5, 12]\n",
            "22\n",
            "[14, 15, 58]\n",
            "87\n"
          ]
        }
      ]
    },
    {
      "cell_type": "markdown",
      "source": [
        "### Practice 2:\n",
        "Write then read with one open"
      ],
      "metadata": {
        "id": "cnHmCbjtdDQ6"
      }
    },
    {
      "cell_type": "code",
      "source": [
        "with open('./sample_data/write_read.txt','w+') as f:\n",
        "    f.write('I am Sagor Das')\n",
        "    f.seek(0)\n",
        "    print(f.read())"
      ],
      "metadata": {
        "colab": {
          "base_uri": "https://localhost:8080/"
        },
        "id": "2QVL3pTqdPC9",
        "outputId": "41384392-1bbe-4584-de23-00c0e5b96812"
      },
      "execution_count": null,
      "outputs": [
        {
          "output_type": "stream",
          "name": "stdout",
          "text": [
            "I am Sagor Das\n"
          ]
        }
      ]
    }
  ]
}